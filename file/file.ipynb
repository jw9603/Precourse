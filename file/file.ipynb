{
 "cells": [
  {
   "cell_type": "markdown",
   "metadata": {},
   "source": [
    "## File Read\n"
   ]
  },
  {
   "cell_type": "markdown",
   "metadata": {},
   "source": [
    "#### 파이썬은 파일 처리를 위해 'open' 키워드를 사용함\n",
    "- f : 읽기모드 - 파일을 읽기만 할 때 사용\n",
    "- w : 쓰기모드 - 파일에 내용을 쓸 때 사용\n",
    "- a : 추가모드 - 파일의 마지막에 새로운 내용을 추가 시킬때 사용"
   ]
  },
  {
   "cell_type": "code",
   "execution_count": 3,
   "metadata": {},
   "outputs": [
    {
     "name": "stdout",
     "output_type": "stream",
     "text": [
      "어딘가 들어본 듯한 이 melody (hey)\n",
      "떠올라 작은 기억들이 my memories\n",
      "날 담은 소파는 커 it's too much (too much)\n",
      "기억할수록 난 되어만 가 loser (loser)\n",
      "어딘가 들어본 듯한 이 melody (yeah)\n",
      "떠올라 작은 기억들이 my memories (ooh)\n",
      "날 담은 소파는 커 it's too much (too much)\n",
      "기억할수록 난 되어만 가 loser (loser)\n",
      "I'm a loser\n",
      "난 처음 너의 바램이 되고 싶어\n",
      "세상을 다 주겠다고 약속을 해\n",
      "많은 눈들의 착각이 나에겐\n",
      "혼란이 되어 너만 힘들게 했지\n",
      "더 잃을 것도 없었는데 날 너와 비교했어\n",
      "참 나는 못된 사람이 됐고\n",
      "모든 내 말들은 널 위한 거였단 핑계가 돼\n",
      "근데 이젠 혼자 살기에는 버거운 집과\n",
      "혼자 앉아있긴 너무 커 소파\n",
      "또 다 쓰지도 못하는 돈과 옷\n",
      "널 데려다 줄 만한 큰 차 뭐\n",
      "다 가져버리고 나서 난\n",
      "Tv에 너와 함께 보던 영화 흘러나오다가\n",
      "혼잣말 옆에 없잖아 너가\n",
      "하루 종일 싸우고 안은 채 잠들어도 좋아\n",
      "다 괜찮으니 와서 채워주라 이 소파\n",
      "혼자는 이 공간이 너무 커\n",
      "필요해 너가 (hey 필요해 너가)\n",
      "어딘가 들어본 듯한 이 melody (hey)\n",
      "떠올라 작은 기억들이 my memories\n",
      "날 담은 소파는 커 it's too much (too much)\n",
      "기억할수록 난 되어만 가 loser (loser)\n",
      "어딘가 들어본 듯한 이 melody (yeah)\n",
      "떠올라 작은 기억들이 my memories (ooh)\n",
      "날 담은 소파는 커 it's too much (too much)\n",
      "기억할수록 난 되어만 가 loser (loser)\n",
      "I'm a loser\n",
      "Ooh 영원할 것 같았던 약속들 (ooh)\n",
      "손을 잡아주겠다던 너와 나 둘 (ooh)\n",
      "앞이 안 보일 때 너가 돼준 내 눈 (ooh)\n",
      "겨울에 함께 봤던 눈 (hey) (ooh)\n",
      "불타올랐지 아무리 추워도 난 with you (난 with you)\n",
      "불이 꺼져 재만 남아도 lovin' you (lovin' you)\n",
      "라고 말하던 때 그때 그 기억인 듯\n",
      "아직도 너와 듣던 노래들의 가사들\n",
      "뻔한 듯했던 그 melody가 익숙하던 예전 그대로\n",
      "고정돼있던 곡 뻔하던 그 제목\n",
      "초라해질까 봐 난 말을 못 했어 (필요해 너가)\n",
      "어딘가 들어본 듯한 이 melody (hey)\n",
      "떠올라 작은 기억들이 my memories\n",
      "날 담은 소파는 커 it's too much (too much)\n",
      "기억할수록 난 되어만 가 loser (loser)\n",
      "어딘가 들어본 듯한 이 melody (yeah)\n",
      "떠올라 작은 기억들이 my memories (ooh)\n",
      "날 담은 소파는 커 it's too much (too much)\n",
      "기억할수록 난 되어만 가 loser (loser)\n",
      "I'm a loser\n",
      "\n"
     ]
    }
   ],
   "source": [
    "f = open('melody.txt','r')\n",
    "content = f.read()\n",
    "print(content)\n",
    "f.close()"
   ]
  },
  {
   "cell_type": "markdown",
   "metadata": {},
   "source": [
    "#### with구문과 함께 사용하기"
   ]
  },
  {
   "cell_type": "code",
   "execution_count": 4,
   "metadata": {},
   "outputs": [
    {
     "name": "stdout",
     "output_type": "stream",
     "text": [
      "어딘가 들어본 듯한 이 melody (hey)\n",
      "떠올라 작은 기억들이 my memories\n",
      "날 담은 소파는 커 it's too much (too much)\n",
      "기억할수록 난 되어만 가 loser (loser)\n",
      "어딘가 들어본 듯한 이 melody (yeah)\n",
      "떠올라 작은 기억들이 my memories (ooh)\n",
      "날 담은 소파는 커 it's too much (too much)\n",
      "기억할수록 난 되어만 가 loser (loser)\n",
      "I'm a loser\n",
      "난 처음 너의 바램이 되고 싶어\n",
      "세상을 다 주겠다고 약속을 해\n",
      "많은 눈들의 착각이 나에겐\n",
      "혼란이 되어 너만 힘들게 했지\n",
      "더 잃을 것도 없었는데 날 너와 비교했어\n",
      "참 나는 못된 사람이 됐고\n",
      "모든 내 말들은 널 위한 거였단 핑계가 돼\n",
      "근데 이젠 혼자 살기에는 버거운 집과\n",
      "혼자 앉아있긴 너무 커 소파\n",
      "또 다 쓰지도 못하는 돈과 옷\n",
      "널 데려다 줄 만한 큰 차 뭐\n",
      "다 가져버리고 나서 난\n",
      "Tv에 너와 함께 보던 영화 흘러나오다가\n",
      "혼잣말 옆에 없잖아 너가\n",
      "하루 종일 싸우고 안은 채 잠들어도 좋아\n",
      "다 괜찮으니 와서 채워주라 이 소파\n",
      "혼자는 이 공간이 너무 커\n",
      "필요해 너가 (hey 필요해 너가)\n",
      "어딘가 들어본 듯한 이 melody (hey)\n",
      "떠올라 작은 기억들이 my memories\n",
      "날 담은 소파는 커 it's too much (too much)\n",
      "기억할수록 난 되어만 가 loser (loser)\n",
      "어딘가 들어본 듯한 이 melody (yeah)\n",
      "떠올라 작은 기억들이 my memories (ooh)\n",
      "날 담은 소파는 커 it's too much (too much)\n",
      "기억할수록 난 되어만 가 loser (loser)\n",
      "I'm a loser\n",
      "Ooh 영원할 것 같았던 약속들 (ooh)\n",
      "손을 잡아주겠다던 너와 나 둘 (ooh)\n",
      "앞이 안 보일 때 너가 돼준 내 눈 (ooh)\n",
      "겨울에 함께 봤던 눈 (hey) (ooh)\n",
      "불타올랐지 아무리 추워도 난 with you (난 with you)\n",
      "불이 꺼져 재만 남아도 lovin' you (lovin' you)\n",
      "라고 말하던 때 그때 그 기억인 듯\n",
      "아직도 너와 듣던 노래들의 가사들\n",
      "뻔한 듯했던 그 melody가 익숙하던 예전 그대로\n",
      "고정돼있던 곡 뻔하던 그 제목\n",
      "초라해질까 봐 난 말을 못 했어 (필요해 너가)\n",
      "어딘가 들어본 듯한 이 melody (hey)\n",
      "떠올라 작은 기억들이 my memories\n",
      "날 담은 소파는 커 it's too much (too much)\n",
      "기억할수록 난 되어만 가 loser (loser)\n",
      "어딘가 들어본 듯한 이 melody (yeah)\n",
      "떠올라 작은 기억들이 my memories (ooh)\n",
      "날 담은 소파는 커 it's too much (too much)\n",
      "기억할수록 난 되어만 가 loser (loser)\n",
      "I'm a loser\n",
      "\n"
     ]
    }
   ],
   "source": [
    "with open('melody.txt','r') as f:\n",
    "    contents = f.read()\n",
    "    print(contents)\n",
    "    #f.close가 필요없음\n",
    "    "
   ]
  },
  {
   "cell_type": "code",
   "execution_count": 5,
   "metadata": {},
   "outputs": [
    {
     "name": "stdout",
     "output_type": "stream",
     "text": [
      "<class 'list'>\n",
      "['어딘가 들어본 듯한 이 melody (hey)\\n', '떠올라 작은 기억들이 my memories\\n', \"날 담은 소파는 커 it's too much (too much)\\n\", '기억할수록 난 되어만 가 loser (loser)\\n', '어딘가 들어본 듯한 이 melody (yeah)\\n', '떠올라 작은 기억들이 my memories (ooh)\\n', \"날 담은 소파는 커 it's too much (too much)\\n\", '기억할수록 난 되어만 가 loser (loser)\\n', \"I'm a loser\\n\", '난 처음 너의 바램이 되고 싶어\\n', '세상을 다 주겠다고 약속을 해\\n', '많은 눈들의 착각이 나에겐\\n', '혼란이 되어 너만 힘들게 했지\\n', '더 잃을 것도 없었는데 날 너와 비교했어\\n', '참 나는 못된 사람이 됐고\\n', '모든 내 말들은 널 위한 거였단 핑계가 돼\\n', '근데 이젠 혼자 살기에는 버거운 집과\\n', '혼자 앉아있긴 너무 커 소파\\n', '또 다 쓰지도 못하는 돈과 옷\\n', '널 데려다 줄 만한 큰 차 뭐\\n', '다 가져버리고 나서 난\\n', 'Tv에 너와 함께 보던 영화 흘러나오다가\\n', '혼잣말 옆에 없잖아 너가\\n', '하루 종일 싸우고 안은 채 잠들어도 좋아\\n', '다 괜찮으니 와서 채워주라 이 소파\\n', '혼자는 이 공간이 너무 커\\n', '필요해 너가 (hey 필요해 너가)\\n', '어딘가 들어본 듯한 이 melody (hey)\\n', '떠올라 작은 기억들이 my memories\\n', \"날 담은 소파는 커 it's too much (too much)\\n\", '기억할수록 난 되어만 가 loser (loser)\\n', '어딘가 들어본 듯한 이 melody (yeah)\\n', '떠올라 작은 기억들이 my memories (ooh)\\n', \"날 담은 소파는 커 it's too much (too much)\\n\", '기억할수록 난 되어만 가 loser (loser)\\n', \"I'm a loser\\n\", 'Ooh 영원할 것 같았던 약속들 (ooh)\\n', '손을 잡아주겠다던 너와 나 둘 (ooh)\\n', '앞이 안 보일 때 너가 돼준 내 눈 (ooh)\\n', '겨울에 함께 봤던 눈 (hey) (ooh)\\n', '불타올랐지 아무리 추워도 난 with you (난 with you)\\n', \"불이 꺼져 재만 남아도 lovin' you (lovin' you)\\n\", '라고 말하던 때 그때 그 기억인 듯\\n', '아직도 너와 듣던 노래들의 가사들\\n', '뻔한 듯했던 그 melody가 익숙하던 예전 그대로\\n', '고정돼있던 곡 뻔하던 그 제목\\n', '초라해질까 봐 난 말을 못 했어 (필요해 너가)\\n', '어딘가 들어본 듯한 이 melody (hey)\\n', '떠올라 작은 기억들이 my memories\\n', \"날 담은 소파는 커 it's too much (too much)\\n\", '기억할수록 난 되어만 가 loser (loser)\\n', '어딘가 들어본 듯한 이 melody (yeah)\\n', '떠올라 작은 기억들이 my memories (ooh)\\n', \"날 담은 소파는 커 it's too much (too much)\\n\", '기억할수록 난 되어만 가 loser (loser)\\n', \"I'm a loser\\n\"]\n"
     ]
    }
   ],
   "source": [
    "with open('melody.txt','r') as f:\n",
    "    content = f.readlines()\n",
    "    print(type(content))\n",
    "    print(content)"
   ]
  },
  {
   "cell_type": "code",
   "execution_count": 13,
   "metadata": {},
   "outputs": [
    {
     "name": "stdout",
     "output_type": "stream",
     "text": [
      "0 >> 어딘가 들어본 듯한 이 melody (hey)\n",
      "1 >> 떠올라 작은 기억들이 my memories\n",
      "2 >> 날 담은 소파는 커 it's too much (too much)\n",
      "3 >> 기억할수록 난 되어만 가 loser (loser)\n",
      "4 >> 어딘가 들어본 듯한 이 melody (yeah)\n",
      "5 >> 떠올라 작은 기억들이 my memories (ooh)\n",
      "6 >> 날 담은 소파는 커 it's too much (too much)\n",
      "7 >> 기억할수록 난 되어만 가 loser (loser)\n",
      "8 >> I'm a loser\n",
      "9 >> 난 처음 너의 바램이 되고 싶어\n",
      "10 >> 세상을 다 주겠다고 약속을 해\n",
      "11 >> 많은 눈들의 착각이 나에겐\n",
      "12 >> 혼란이 되어 너만 힘들게 했지\n",
      "13 >> 더 잃을 것도 없었는데 날 너와 비교했어\n",
      "14 >> 참 나는 못된 사람이 됐고\n",
      "15 >> 모든 내 말들은 널 위한 거였단 핑계가 돼\n",
      "16 >> 근데 이젠 혼자 살기에는 버거운 집과\n",
      "17 >> 혼자 앉아있긴 너무 커 소파\n",
      "18 >> 또 다 쓰지도 못하는 돈과 옷\n",
      "19 >> 널 데려다 줄 만한 큰 차 뭐\n",
      "20 >> 다 가져버리고 나서 난\n",
      "21 >> Tv에 너와 함께 보던 영화 흘러나오다가\n",
      "22 >> 혼잣말 옆에 없잖아 너가\n",
      "23 >> 하루 종일 싸우고 안은 채 잠들어도 좋아\n",
      "24 >> 다 괜찮으니 와서 채워주라 이 소파\n",
      "25 >> 혼자는 이 공간이 너무 커\n",
      "26 >> 필요해 너가 (hey 필요해 너가)\n",
      "27 >> 어딘가 들어본 듯한 이 melody (hey)\n",
      "28 >> 떠올라 작은 기억들이 my memories\n",
      "29 >> 날 담은 소파는 커 it's too much (too much)\n",
      "30 >> 기억할수록 난 되어만 가 loser (loser)\n",
      "31 >> 어딘가 들어본 듯한 이 melody (yeah)\n",
      "32 >> 떠올라 작은 기억들이 my memories (ooh)\n",
      "33 >> 날 담은 소파는 커 it's too much (too much)\n",
      "34 >> 기억할수록 난 되어만 가 loser (loser)\n",
      "35 >> I'm a loser\n",
      "36 >> Ooh 영원할 것 같았던 약속들 (ooh)\n",
      "37 >> 손을 잡아주겠다던 너와 나 둘 (ooh)\n",
      "38 >> 앞이 안 보일 때 너가 돼준 내 눈 (ooh)\n",
      "39 >> 겨울에 함께 봤던 눈 (hey) (ooh)\n",
      "40 >> 불타올랐지 아무리 추워도 난 with you (난 with you)\n",
      "41 >> 불이 꺼져 재만 남아도 lovin' you (lovin' you)\n",
      "42 >> 라고 말하던 때 그때 그 기억인 듯\n",
      "43 >> 아직도 너와 듣던 노래들의 가사들\n",
      "44 >> 뻔한 듯했던 그 melody가 익숙하던 예전 그대로\n",
      "45 >> 고정돼있던 곡 뻔하던 그 제목\n",
      "46 >> 초라해질까 봐 난 말을 못 했어 (필요해 너가)\n",
      "47 >> 어딘가 들어본 듯한 이 melody (hey)\n",
      "48 >> 떠올라 작은 기억들이 my memories\n",
      "49 >> 날 담은 소파는 커 it's too much (too much)\n",
      "50 >> 기억할수록 난 되어만 가 loser (loser)\n",
      "51 >> 어딘가 들어본 듯한 이 melody (yeah)\n",
      "52 >> 떠올라 작은 기억들이 my memories (ooh)\n",
      "53 >> 날 담은 소파는 커 it's too much (too much)\n",
      "54 >> 기억할수록 난 되어만 가 loser (loser)\n",
      "55 >> I'm a loser\n"
     ]
    }
   ],
   "source": [
    "#실행시 마다 한 줄 씩 읽어오기\n",
    "with open('melody.txt','r') as f:\n",
    "    i=0\n",
    "    while True:\n",
    "        line = f.readline()\n",
    "        if not line:\n",
    "            break\n",
    "        # print(type(line))\n",
    "        print(str(i)+' >> '+line.replace('\\n',''))\n",
    "        i+=1\n",
    "    "
   ]
  },
  {
   "cell_type": "markdown",
   "metadata": {},
   "source": [
    "#### 단어 통계 정보 산출\n"
   ]
  },
  {
   "cell_type": "code",
   "execution_count": 11,
   "metadata": {},
   "outputs": [
    {
     "name": "stdout",
     "output_type": "stream",
     "text": [
      "1353\n",
      "<class 'str'>\n",
      "Total Number of Words: 290\n",
      "Total Number of Lines:; 57\n"
     ]
    }
   ],
   "source": [
    "with open('melody.txt','r') as f:\n",
    "\n",
    "    contents = f.read()\n",
    "    a = contents.split(' ') # 빈칸을 기준으로 단어를 분리한 리스트\n",
    "    b = contents.split('\\n') # 한줄 씩 기준으로 문장을 분리한 리스트\n",
    "\n",
    "print(len(contents))\n",
    "print(type(contents))\n",
    "print('Total Number of Words:',len(a))\n",
    "print('Total Number of Lines:;',len(b))"
   ]
  },
  {
   "cell_type": "markdown",
   "metadata": {},
   "source": [
    "## File Write"
   ]
  },
  {
   "cell_type": "code",
   "execution_count": 23,
   "metadata": {},
   "outputs": [],
   "source": [
    "f = open('count_log.txt','w',encoding='utf8')\n",
    "for i in range(1,11):\n",
    "    data = '{}번째 줄입니다.\\n'.format(i)\n",
    "    f.write(data)\n",
    "f.close()"
   ]
  },
  {
   "cell_type": "code",
   "execution_count": 25,
   "metadata": {},
   "outputs": [],
   "source": [
    "f = open('count_log.txt','a',encoding='utf8')\n",
    "for i in range(11,21):\n",
    "    data = '{}번째 줄입니다.\\n'.format(i)\n",
    "    f.write(data)\n",
    "f.close()"
   ]
  },
  {
   "cell_type": "markdown",
   "metadata": {},
   "source": [
    "## 파이썬의 directory 다루기"
   ]
  },
  {
   "cell_type": "code",
   "execution_count": 26,
   "metadata": {},
   "outputs": [],
   "source": [
    "import os \n",
    "os.mkdir('log') "
   ]
  },
  {
   "cell_type": "code",
   "execution_count": 28,
   "metadata": {},
   "outputs": [
    {
     "name": "stdout",
     "output_type": "stream",
     "text": [
      "[Errno 17] File exists: 'log'\n",
      "이미 있어\n"
     ]
    }
   ],
   "source": [
    "try:\n",
    "    os.mkdir('log')\n",
    "except FileExistsError as e:\n",
    "    print(e)\n",
    "    print('이미 있어')"
   ]
  },
  {
   "cell_type": "code",
   "execution_count": 29,
   "metadata": {},
   "outputs": [
    {
     "data": {
      "text/plain": [
       "True"
      ]
     },
     "execution_count": 29,
     "metadata": {},
     "output_type": "execute_result"
    }
   ],
   "source": [
    "os.path.exists('log')# == os.path.isdir('log')"
   ]
  },
  {
   "cell_type": "code",
   "execution_count": 3,
   "metadata": {},
   "outputs": [
    {
     "data": {
      "text/plain": [
       "True"
      ]
     },
     "execution_count": 3,
     "metadata": {},
     "output_type": "execute_result"
    }
   ],
   "source": [
    "os.path.isdir('log')"
   ]
  },
  {
   "cell_type": "code",
   "execution_count": 30,
   "metadata": {},
   "outputs": [
    {
     "data": {
      "text/plain": [
       "PosixPath('/Users/jeongjiwon/AI_Tech/Python_exercise/file')"
      ]
     },
     "execution_count": 30,
     "metadata": {},
     "output_type": "execute_result"
    }
   ],
   "source": [
    "import pathlib\n",
    "cwd = pathlib.Path.cwd()\n",
    "cwd"
   ]
  },
  {
   "cell_type": "code",
   "execution_count": 31,
   "metadata": {},
   "outputs": [
    {
     "data": {
      "text/plain": [
       "PosixPath('/Users/jeongjiwon/AI_Tech/Python_exercise')"
      ]
     },
     "execution_count": 31,
     "metadata": {},
     "output_type": "execute_result"
    }
   ],
   "source": [
    "cwd.parent "
   ]
  },
  {
   "cell_type": "markdown",
   "metadata": {},
   "source": [
    "## Pickle\n",
    "\n",
    "- 파이썬의 객체를 영속화(persistence)하는 built-in 객체\n",
    "- 데이터, object등 실행 중 정보를 저장 -> 불러와서 사용\n",
    "- 저장해야하는 정보, 계산 결과(모델)등 활용이 많음"
   ]
  },
  {
   "cell_type": "code",
   "execution_count": 1,
   "metadata": {},
   "outputs": [],
   "source": [
    "import pickle\n",
    "\n",
    "f = open('list.pickle','wb')\n",
    "test = [1,2,3,4,5]\n",
    "pickle.dump(test,f)\n",
    "f.close()"
   ]
  },
  {
   "cell_type": "code",
   "execution_count": 2,
   "metadata": {},
   "outputs": [],
   "source": [
    "del test"
   ]
  },
  {
   "cell_type": "code",
   "execution_count": 4,
   "metadata": {},
   "outputs": [
    {
     "ename": "NameError",
     "evalue": "name 'test' is not defined",
     "output_type": "error",
     "traceback": [
      "\u001b[0;31m---------------------------------------------------------------------------\u001b[0m",
      "\u001b[0;31mNameError\u001b[0m                                 Traceback (most recent call last)",
      "\u001b[0;32m<ipython-input-4-4e1243bd22c6>\u001b[0m in \u001b[0;36m<module>\u001b[0;34m\u001b[0m\n\u001b[0;32m----> 1\u001b[0;31m \u001b[0mtest\u001b[0m\u001b[0;34m\u001b[0m\u001b[0;34m\u001b[0m\u001b[0m\n\u001b[0m",
      "\u001b[0;31mNameError\u001b[0m: name 'test' is not defined"
     ]
    }
   ],
   "source": [
    "test"
   ]
  },
  {
   "cell_type": "code",
   "execution_count": 3,
   "metadata": {},
   "outputs": [
    {
     "name": "stdout",
     "output_type": "stream",
     "text": [
      "[1, 2, 3, 4, 5]\n"
     ]
    }
   ],
   "source": [
    "f = open('list.pickle','rb')\n",
    "test_pickle = pickle.load(f)\n",
    "print(test_pickle)\n",
    "f.close()"
   ]
  },
  {
   "cell_type": "code",
   "execution_count": 6,
   "metadata": {},
   "outputs": [],
   "source": [
    "import pickle\n",
    "\n",
    "class Multiply(object):\n",
    "    def __init__(self,multiplier):\n",
    "        self.multiplier = multiplier\n",
    "\n",
    "    def multiply(self,number):\n",
    "        return number * self.multiplier"
   ]
  },
  {
   "cell_type": "code",
   "execution_count": 7,
   "metadata": {},
   "outputs": [
    {
     "data": {
      "text/plain": [
       "500"
      ]
     },
     "execution_count": 7,
     "metadata": {},
     "output_type": "execute_result"
    }
   ],
   "source": [
    "mul = Multiply(5)\n",
    "mul.multiply(100)"
   ]
  },
  {
   "cell_type": "code",
   "execution_count": 8,
   "metadata": {},
   "outputs": [],
   "source": [
    "f = open('multiply_object.pickle','wb')\n",
    "pickle.dump(mul,f)\n",
    "f.close("
   ]
  },
  {
   "cell_type": "code",
   "execution_count": 9,
   "metadata": {},
   "outputs": [],
   "source": [
    "del mul"
   ]
  },
  {
   "cell_type": "code",
   "execution_count": 10,
   "metadata": {},
   "outputs": [
    {
     "ename": "NameError",
     "evalue": "name 'mul' is not defined",
     "output_type": "error",
     "traceback": [
      "\u001b[0;31m---------------------------------------------------------------------------\u001b[0m",
      "\u001b[0;31mNameError\u001b[0m                                 Traceback (most recent call last)",
      "\u001b[0;32m<ipython-input-10-b6f78e329905>\u001b[0m in \u001b[0;36m<module>\u001b[0;34m\u001b[0m\n\u001b[0;32m----> 1\u001b[0;31m \u001b[0mmul\u001b[0m\u001b[0;34m\u001b[0m\u001b[0;34m\u001b[0m\u001b[0m\n\u001b[0m",
      "\u001b[0;31mNameError\u001b[0m: name 'mul' is not defined"
     ]
    }
   ],
   "source": [
    "mul"
   ]
  },
  {
   "cell_type": "code",
   "execution_count": 13,
   "metadata": {},
   "outputs": [
    {
     "name": "stdout",
     "output_type": "stream",
     "text": [
      "<__main__.Multiply object at 0x7fe75af35820>\n"
     ]
    }
   ],
   "source": [
    "f = open('multiply_object.pickle','rb')\n",
    "mul_pickle = pickle.load(f)\n",
    "print(mul_pickle)\n",
    "f.close()"
   ]
  },
  {
   "cell_type": "code",
   "execution_count": null,
   "metadata": {},
   "outputs": [],
   "source": []
  }
 ],
 "metadata": {
  "interpreter": {
   "hash": "0ffc5a65df4473e5ec978d296e44db7a5ae5a6aeaf8451573edc3b07e9460cdb"
  },
  "kernelspec": {
   "display_name": "Python 3",
   "language": "python",
   "name": "python3"
  },
  "language_info": {
   "codemirror_mode": {
    "name": "ipython",
    "version": 3
   },
   "file_extension": ".py",
   "mimetype": "text/x-python",
   "name": "python",
   "nbconvert_exporter": "python",
   "pygments_lexer": "ipython3",
   "version": "3.8.8"
  }
 },
 "nbformat": 4,
 "nbformat_minor": 2
}
